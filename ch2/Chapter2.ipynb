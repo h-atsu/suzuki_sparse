{
 "cells": [
  {
   "cell_type": "code",
   "execution_count": 1,
   "metadata": {},
   "outputs": [],
   "source": [
    "import copy\n",
    "import japanize_matplotlib\n",
    "%matplotlib inline\n",
    "import matplotlib.pyplot as plt\n",
    "import numpy as np\n",
    "import scipy\n",
    "from matplotlib.pyplot import imshow\n",
    "from numpy.random import randn\n",
    "from scipy import stats\n",
    "import matplotlib.pyplot as plt\n",
    "np.random.seed(42)"
   ]
  },
  {
   "cell_type": "markdown",
   "metadata": {},
   "source": [
    "# 問題21 (b)"
   ]
  },
  {
   "cell_type": "code",
   "execution_count": 2,
   "metadata": {},
   "outputs": [],
   "source": [
    "def f(x):\n",
    "    return np.exp(beta_0 + np.dot(beta, x)) / (1 + np.exp(beta_0 + np.dot(beta, x)))"
   ]
  },
  {
   "cell_type": "code",
   "execution_count": 3,
   "metadata": {},
   "outputs": [
    {
     "data": {
      "text/plain": [
       "<matplotlib.legend.Legend at 0x7fd70cce2460>"
      ]
     },
     "execution_count": 3,
     "metadata": {},
     "output_type": "execute_result"
    },
    {
     "data": {
      "image/png": "[encoded data removed]",
      "text/plain": [
       "<Figure size 432x288 with 1 Axes>"
      ]
     },
     "metadata": {
      "needs_background": "light"
     },
     "output_type": "display_data"
    }
   ],
   "source": [
    "beta_0 = 0\n",
    "beta_seq = np.array([0, 0.2, 0.5, 1, 2, 10])\n",
    "m = len(beta_seq)\n",
    "x = np.arange(-10, 10)\n",
    "for i in range(m):\n",
    "    beta = beta_seq[i]  #betaの値を変更\n",
    "    plt.plot(x, f(x), label=beta_seq[i])   #ロジスティック関数を描画\n",
    "plt.title(\"ロジスティック曲線\")\n",
    "plt.xlabel(\"$x$\")\n",
    "plt.ylabel(\"$P(Y=1|x)$\")\n",
    "plt.legend()"
   ]
  },
  {
   "cell_type": "markdown",
   "metadata": {},
   "source": [
    "# 問題22"
   ]
  },
  {
   "cell_type": "markdown",
   "metadata": {},
   "source": [
    "$N = 100$に対して$p = 2$の場合"
   ]
  },
  {
   "cell_type": "code",
   "execution_count": 4,
   "metadata": {},
   "outputs": [
    {
     "data": {
      "text/plain": [
       "array([0.35778736, 0.56078453, 1.08305124])"
      ]
     },
     "execution_count": 4,
     "metadata": {},
     "output_type": "execute_result"
    }
   ],
   "source": [
    "N = 100\n",
    "p = 2\n",
    "X = np.random.randn(N, p)\n",
    "X = np.concatenate([np.ones(N).reshape(N, 1), X], axis=1)\n",
    "beta = np.random.randn(p+1)\n",
    "y = np.zeros(N)\n",
    "s = np.dot(X, beta)\n",
    "prob = 1 / (1 + np.exp(s))\n",
    "for i in range(N):\n",
    "    if np.random.rand(1) > prob[i]:\n",
    "        y[i] = 1\n",
    "    else:\n",
    "        y[i] = -1\n",
    "beta"
   ]
  },
  {
   "cell_type": "code",
   "execution_count": 5,
   "metadata": {},
   "outputs": [
    {
     "name": "stdout",
     "output_type": "stream",
     "text": [
      "[-0.08319037  0.64260297  1.08943998]\n",
      "[0.46802113 0.75346512 0.56215532]\n",
      "[0.42157733 0.78281238 0.67917968]\n",
      "[0.42198408 0.78533849 0.68339308]\n"
     ]
    },
    {
     "data": {
      "text/plain": [
       "array([0.42157733, 0.78281238, 0.67917968])"
      ]
     },
     "execution_count": 5,
     "metadata": {},
     "output_type": "execute_result"
    }
   ],
   "source": [
    "beta = np.inf\n",
    "gamma = np.random.randn(p + 1)\n",
    "while np.sum((beta - gamma) ** 2) > 0.001:\n",
    "    beta = gamma.copy()\n",
    "    s = np.dot(X, beta)\n",
    "    v = np.exp(-s * y)\n",
    "    u = y * v / (1 + v)\n",
    "    w = v / (1 + v) ** 2\n",
    "    z = s + u / w\n",
    "    W = np.diag(w)\n",
    "    gamma = np.dot(np.linalg.inv(X.T @ W @ X), np.dot(X.T @ W, z))       ##\n",
    "    print(gamma)\n",
    "beta    "
   ]
  },
  {
   "cell_type": "markdown",
   "metadata": {},
   "source": [
    "$N = 100$に対して$p = 200$の場合$\\beta$の各値が大きくなってoverflowが発生している"
   ]
  },
  {
   "cell_type": "code",
   "execution_count": 6,
   "metadata": {},
   "outputs": [
    {
     "name": "stderr",
     "output_type": "stream",
     "text": [
      "<ipython-input-6-e171288a67a7>:19: RuntimeWarning: overflow encountered in exp\n",
      "  v = np.exp(-s * y)\n",
      "<ipython-input-6-e171288a67a7>:20: RuntimeWarning: invalid value encountered in true_divide\n",
      "  u = y * v / (1 + v)\n",
      "<ipython-input-6-e171288a67a7>:21: RuntimeWarning: invalid value encountered in true_divide\n",
      "  w = v / (1 + v) ** 2\n"
     ]
    },
    {
     "data": {
      "text/plain": [
       "array([ -455782., 11779920.,  -405240., -1183160., -2064004.,  3737908.,\n",
       "        -721972., -3214680., -3661340.,  1798388.,  1121604.,  1165528.,\n",
       "       -1881996., -1350324.,  4851096.,   381573.,  7384400.,   303920.,\n",
       "       -2144132., -1236972.,   495416.])"
      ]
     },
     "execution_count": 6,
     "metadata": {},
     "output_type": "execute_result"
    }
   ],
   "source": [
    "N = 10\n",
    "p = 20\n",
    "X = np.random.randn(N, p)\n",
    "X = np.concatenate([np.ones(N).reshape(N, 1), X], axis=1)\n",
    "beta = np.random.randn(p+1)\n",
    "y = np.zeros(N)\n",
    "s = np.dot(X, beta)\n",
    "prob = 1 / (1 + np.exp(s))\n",
    "for i in range(N):\n",
    "    if np.random.rand(1) > prob[i]:\n",
    "        y[i] = 1\n",
    "    else:\n",
    "        y[i] = -1\n",
    "beta = np.inf\n",
    "gamma = np.random.randn(p + 1)\n",
    "while np.sum((beta - gamma) ** 2) > 1e-10:\n",
    "    beta = gamma.copy()\n",
    "    s = np.dot(X, beta)\n",
    "    v = np.exp(-s * y)\n",
    "    u = y * v / (1 + v)\n",
    "    w = v / (1 + v) ** 2\n",
    "    z = s + u / (w + 1e-10) #divide by zero を防ぐ\n",
    "    W = np.diag(w)\n",
    "    gamma = np.dot(np.linalg.inv(X.T @ W @ X), np.dot(X.T @ W, z))       ##\n",
    "#    print(gamma)\n",
    "beta    "
   ]
  },
  {
   "cell_type": "markdown",
   "metadata": {},
   "source": [
    "# 問題24"
   ]
  },
  {
   "cell_type": "code",
   "execution_count": 7,
   "metadata": {},
   "outputs": [],
   "source": [
    "# Linuxでの実行（Windows, Google Colaboratory不可）\n",
    "import numpy as np\n",
    "import matplotlib.pyplot as plt\n",
    "import glmnet_python\n",
    "import sys\n",
    "from cvglmnet import cvglmnet\n",
    "from cvglmnetCoef import cvglmnetCoef\n",
    "from cvglmnetPlot import cvglmnetPlot"
   ]
  },
  {
   "cell_type": "code",
   "execution_count": 8,
   "metadata": {},
   "outputs": [
    {
     "name": "stderr",
     "output_type": "stream",
     "text": [
      "/opt/conda/lib/python3.9/site-packages/numpy/lib/scimath.py:288: RuntimeWarning: divide by zero encountered in log\n",
      "  return nx.log(x)\n"
     ]
    },
    {
     "data": {
      "text/plain": [
       "35"
      ]
     },
     "execution_count": 8,
     "metadata": {},
     "output_type": "execute_result"
    }
   ],
   "source": [
    "# Linuxマシンのフォルダに\"breastcancer.csv\"をおく\n",
    "x = np.loadtxt(\"../data/breastcancer.csv\",\n",
    "               delimiter=\",\", skiprows=1, usecols=range(1000))\n",
    "y = np.loadtxt(\"../data/breastcancer.csv\",\n",
    "               delimiter=\",\", skiprows=1, dtype=\"unicode\", usecols=1000)\n",
    "n = len(y)\n",
    "yy = np.ones(n)\n",
    "for i in range(n):\n",
    "    if y[i] == \"control\":\n",
    "        yy[i] = 1\n",
    "    else:\n",
    "        yy[i] = -1\n",
    "fit1 = cvglmnet(x=x.copy(), y=yy.copy(), ptype=\"deviance\", family=\"binomial\")\n",
    "fit2 = cvglmnet(x=x.copy(), y=yy.copy(), ptype=\"class\", family=\"binomial\")\n",
    "beta = cvglmnetCoef(fit1)\n",
    "np.sum(beta != 0)"
   ]
  },
  {
   "cell_type": "markdown",
   "metadata": {},
   "source": [
    "非ゼロ要素の個数は$35$"
   ]
  },
  {
   "cell_type": "markdown",
   "metadata": {},
   "source": [
    "# 問題26"
   ]
  },
  {
   "cell_type": "code",
   "execution_count": 9,
   "metadata": {},
   "outputs": [],
   "source": [
    "def soft_th(lam, x):\n",
    "    return np.sign(x) * np.maximum(np.abs(x) - lam, np.zeros(1))\n",
    "\n",
    "def linear_lasso(X, y, lam=0, beta=None):\n",
    "    n, p = X.shape\n",
    "    if beta is None:\n",
    "        beta = np.zeros(p)\n",
    "    X, y, X_bar, X_sd, y_bar = centralize(X, y)   # 中心化（下記参照）\n",
    "    eps = 1\n",
    "    beta_old = copy.copy(beta)\n",
    "    while eps > 0.00001:    # このループの収束を待つ\n",
    "        for j in range(p):\n",
    "            r = y\n",
    "            for k in range(p):\n",
    "                if j != k:\n",
    "                    r = r - X[:, k] * beta[k]\n",
    "            z = (np.dot(r, X[:, j]) / n) / (np.dot(X[:, j], X[:, j]) / n)\n",
    "            beta[j] = soft_th(lam, z)\n",
    "        eps = np.linalg.norm(beta - beta_old, 2)\n",
    "        beta_old = copy.copy(beta)\n",
    "    beta = beta / X_sd   # 各変数の係数を正規化前のものに戻す\n",
    "    beta_0 = y_bar - np.dot(X_bar, beta)\n",
    "    return beta, beta_0\n",
    "\n",
    "def centralize(X0, y0, standardize=True):\n",
    "    X = copy.copy(X0)\n",
    "    y = copy.copy(y0)\n",
    "    n, p = X.shape\n",
    "    X_bar = np.zeros(p)                   # Xの各列の平均\n",
    "    X_sd = np.zeros(p)                    # Xの各列の標準偏差\n",
    "    for j in range(p):\n",
    "        X_bar[j] = np.mean(X[:, j])\n",
    "        X[:, j] = X[:, j] - X_bar[j]      # Xの各列の中心化\n",
    "        X_sd[j] = np.std(X[:, j])\n",
    "        if standardize is True:\n",
    "            X[:, j] = X[:, j] / X_sd[j]   # Xの各列の標準化\n",
    "    if np.ndim(y) == 2:\n",
    "        K = y.shape[1]\n",
    "        y_bar = np.zeros(K)               # yの平均\n",
    "        for k in range(K):\n",
    "            y_bar[k] = np.mean(y[:, k])\n",
    "            y[:, k] = y[:, k] - y_bar[k]  # yの中心化\n",
    "    else:                                 # yがベクトルの場合\n",
    "        y_bar = np.mean(y)\n",
    "        y = y - y_bar\n",
    "    return X, y, X_bar, X_sd, y_bar\n",
    "\n",
    "def W_linear_lasso(X, y, W, lam=0):\n",
    "    n, p = X.shape\n",
    "    X_bar = np.zeros(p)\n",
    "    for k in range(p):\n",
    "        X_bar[k] = np.sum(np.dot(W, X[:, k])) / np.sum(W)\n",
    "        X[:, k] = X[:, k] - X_bar[k]\n",
    "    y_bar = np.sum(np.dot(W, y)) / np.sum(W)\n",
    "    y = y - y_bar\n",
    "    L = np.linalg.cholesky(W)  #\n",
    "#   L = np.sqrt(W)\n",
    "    u = np.dot(L, y)\n",
    "    V = np.dot(L, X)\n",
    "    beta, beta_0 = linear_lasso(V, u, lam)\n",
    "    beta_0 = y_bar - np.dot(X_bar, beta)\n",
    "    return beta_0, beta\n",
    "\n",
    "def multi_lasso(X, y, lam):\n",
    "    n, p = X.shape\n",
    "    K = len(set(y))\n",
    "    beta = np.ones((K, p))\n",
    "    gamma = np.zeros((K, p))\n",
    "    while np.linalg.norm(beta - gamma, 2) > 0.1:\n",
    "        gamma = beta.copy()\n",
    "        for k in range(K):\n",
    "            r = 0\n",
    "            for h in range(K):\n",
    "                if k != h:\n",
    "                    r = r + np.exp(np.dot(X, beta[h, :]))\n",
    "            v = np.exp(np.dot(X, beta[k, :])) / r\n",
    "            u = (y == k) - v / (1 + v)\n",
    "            w = v / (1 + v) ** 2\n",
    "            z = np.dot(X, beta[k, :]) + u / w\n",
    "            beta_0, beta_1 = W_linear_lasso(X[:, range(1, p)],\n",
    "                                            z, np.diag(w), lam=lam)\n",
    "            beta[k, :] = np.block([beta_0, beta_1]).copy()\n",
    "    for j in range(p):\n",
    "        med = np.median(beta[:, j])\n",
    "        for h in range(K):\n",
    "            beta[h, j] = beta[h, j] - med\n",
    "    return beta"
   ]
  },
  {
   "cell_type": "code",
   "execution_count": 10,
   "metadata": {},
   "outputs": [],
   "source": [
    "# Linuxでの実行（Windows, Google Colaboratory不可）\n",
    "import numpy as np\n",
    "import matplotlib.pyplot as plt\n",
    "import glmnet_python\n",
    "from glmnet import glmnet\n",
    "import sys\n",
    "from cvglmnet import cvglmnet\n",
    "from cvglmnetCoef import cvglmnetCoef\n",
    "from cvglmnetPlot import cvglmnetPlot"
   ]
  },
  {
   "cell_type": "code",
   "execution_count": 11,
   "metadata": {},
   "outputs": [
    {
     "name": "stdout",
     "output_type": "stream",
     "text": [
      "[0.00077805]\n",
      "[array([[ 9.2302786 ],\n",
      "       [ 0.        ],\n",
      "       [ 2.6568387 ],\n",
      "       [-2.73371535],\n",
      "       [-0.46547548]]), array([[5.62976947],\n",
      "       [0.71170415],\n",
      "       [0.        ],\n",
      "       [0.        ],\n",
      "       [0.        ]]), array([[-12.78950282],\n",
      "       [  0.        ],\n",
      "       [ -2.20996807],\n",
      "       [  3.35592123],\n",
      "       [  7.69194562]])]\n"
     ]
    },
    {
     "name": "stderr",
     "output_type": "stream",
     "text": [
      "/opt/conda/lib/python3.9/site-packages/numpy/lib/scimath.py:288: RuntimeWarning: divide by zero encountered in log\n",
      "  return nx.log(x)\n",
      "/opt/conda/lib/python3.9/site-packages/glmnet_python-0.2.0-py3.9.egg/glmnet_python/cvmultnet.py:72: RuntimeWarning: invalid value encountered in multiply\n",
      "  ly = bigY*scipy.log(bigY)\n"
     ]
    }
   ],
   "source": [
    "from sklearn.datasets import load_iris\n",
    "iris = load_iris()\n",
    "X = np.array(iris[\"data\"])\n",
    "y = np.array(iris[\"target\"], dtype=\"float64\")\n",
    "cvfit3 = cvglmnet(x=X.copy(), y=y.copy(),\n",
    "                  ptype=\"deviance\", family=\"multinomial\")\n",
    "lam_min = cvfit3[\"lambda_min\"]\n",
    "beta = cvglmnetCoef(cvfit3)\n",
    "print(lam_min)\n",
    "print(beta)"
   ]
  },
  {
   "cell_type": "code",
   "execution_count": 12,
   "metadata": {},
   "outputs": [
    {
     "name": "stderr",
     "output_type": "stream",
     "text": [
      "/opt/conda/lib/python3.9/site-packages/glmnet_python-0.2.0-py3.9.egg/glmnet_python/cvglmnetPlot.py:113: MatplotlibDeprecationWarning: Case-insensitive properties were deprecated in 3.3 and support will be removed two minor releases later\n",
      "  ax2.set(XLim=xlim1, XTicks = atdf, XTickLabels = prettydf)\n"
     ]
    },
    {
     "data": {
      "image/png": "[encoded data removed]",
      "text/plain": [
       "<Figure size 432x288 with 2 Axes>"
      ]
     },
     "metadata": {
      "needs_background": "light"
     },
     "output_type": "display_data"
    }
   ],
   "source": [
    "fig3 = plt.figure()\n",
    "cvglmnetPlot(cvfit3)\n",
    "fig3.savefig(\"img3.png\")"
   ]
  },
  {
   "cell_type": "code",
   "execution_count": 13,
   "metadata": {},
   "outputs": [
    {
     "data": {
      "text/plain": [
       "array([[50.,  0.,  0.],\n",
       "       [ 0., 47.,  3.],\n",
       "       [ 0.,  1., 49.]])"
      ]
     },
     "execution_count": 13,
     "metadata": {},
     "output_type": "execute_result"
    }
   ],
   "source": [
    "def table_count(m, u, v):\n",
    "    n = u.shape[0]\n",
    "    count = np.zeros([m, m])\n",
    "    for i in range(n):\n",
    "        count[int(u[i]), int(v[i])] += 1\n",
    "    return(count)\n",
    "\n",
    "K = 3\n",
    "p = 5\n",
    "n = 150\n",
    "gamma = np.zeros((K, p))\n",
    "for k in range(K):\n",
    "    for j in range(p):\n",
    "        gamma[k, j] = np.sum(beta[k][j])\n",
    "v = np.zeros(n)\n",
    "for i in range(n):\n",
    "    max_value = -np.inf\n",
    "    for k in range(K):\n",
    "        value = gamma[k, 0] + np.dot(gamma[k, range(1, p)], X[i, :])    #空欄\n",
    "        if value > max_value:\n",
    "            v[i] = k\n",
    "            max_value = value\n",
    "table_count(3, y, v)"
   ]
  },
  {
   "cell_type": "markdown",
   "metadata": {},
   "source": [
    "# 問題28"
   ]
  },
  {
   "cell_type": "code",
   "execution_count": 14,
   "metadata": {},
   "outputs": [],
   "source": [
    "def poisson_lasso(X, y, lam):\n",
    "    p = X.shape[1]   # pはすべて1の列を含んでいる\n",
    "    beta = np.random.randn(p)\n",
    "    gamma = np.random.randn(p)\n",
    "    while np.sum((beta - gamma) ** 2) > 0.0001:\n",
    "        beta = gamma\n",
    "        s = np.dot(X, beta)                    #デザイン行列と重みの積\n",
    "        w = np.exp(s)                          #exp\n",
    "        u = y - w                              #uの計算\n",
    "        z = s + u / w                          \n",
    "        gamma_0, gamma_1 = W_linear_lasso(X[:, range(1, p)],\n",
    "                                          z, np.diag(w), lam)\n",
    "        gamma = np.block([gamma_0, gamma_1]).copy()\n",
    "        print(gamma)\n",
    "    return gamma"
   ]
  },
  {
   "cell_type": "code",
   "execution_count": 15,
   "metadata": {},
   "outputs": [
    {
     "name": "stdout",
     "output_type": "stream",
     "text": [
      "[-0.04946371  0.67481949 -1.12272202  0.38240975]\n"
     ]
    }
   ],
   "source": [
    "N = 100    # lambdaの値が小さいと発散して，推定値が出ないことがある。\n",
    "p = 3\n",
    "X = np.random.randn(N, p)\n",
    "X = np.concatenate([np.ones(N).reshape(N, 1), X], axis=1)\n",
    "beta = np.random.randn(p + 1)\n",
    "s = np.dot(X, beta)\n",
    "y = np.random.poisson(lam=np.exp(s))\n",
    "print(beta)\n"
   ]
  },
  {
   "cell_type": "code",
   "execution_count": 16,
   "metadata": {},
   "outputs": [
    {
     "name": "stdout",
     "output_type": "stream",
     "text": [
      "[ 2.21953756 -0.31371836  0.35286932 -0.        ]\n",
      "[ 1.64649324 -0.          0.          0.        ]\n",
      "[ 1.17841304  0.         -0.          0.        ]\n",
      "[ 1.02784931  0.         -0.          0.        ]\n",
      "[ 1.01530996  0.         -0.          0.        ]\n",
      "[ 1.01523068  0.         -0.          0.        ]\n"
     ]
    },
    {
     "data": {
      "text/plain": [
       "array([ 1.01523068,  0.        , -0.        ,  0.        ])"
      ]
     },
     "execution_count": 16,
     "metadata": {},
     "output_type": "execute_result"
    }
   ],
   "source": [
    "poisson_lasso(X,y,2)"
   ]
  },
  {
   "cell_type": "markdown",
   "metadata": {},
   "source": [
    "# 問題29"
   ]
  },
  {
   "cell_type": "code",
   "execution_count": 17,
   "metadata": {},
   "outputs": [],
   "source": [
    "import pandas as pd\n",
    "from lifelines import KaplanMeierFitter"
   ]
  },
  {
   "cell_type": "code",
   "execution_count": 18,
   "metadata": {},
   "outputs": [
    {
     "data": {
      "text/html": [
       "<div>\n",
       "<style scoped>\n",
       "    .dataframe tbody tr th:only-of-type {\n",
       "        vertical-align: middle;\n",
       "    }\n",
       "\n",
       "    .dataframe tbody tr th {\n",
       "        vertical-align: top;\n",
       "    }\n",
       "\n",
       "    .dataframe thead th {\n",
       "        text-align: right;\n",
       "    }\n",
       "</style>\n",
       "<table border=\"1\" class=\"dataframe\">\n",
       "  <thead>\n",
       "    <tr style=\"text-align: right;\">\n",
       "      <th></th>\n",
       "      <th>id</th>\n",
       "      <th>time</th>\n",
       "      <th>status</th>\n",
       "      <th>age</th>\n",
       "      <th>sex</th>\n",
       "      <th>disease</th>\n",
       "      <th>frail</th>\n",
       "    </tr>\n",
       "  </thead>\n",
       "  <tbody>\n",
       "    <tr>\n",
       "      <th>0</th>\n",
       "      <td>1</td>\n",
       "      <td>8</td>\n",
       "      <td>1</td>\n",
       "      <td>28</td>\n",
       "      <td>1</td>\n",
       "      <td>Other</td>\n",
       "      <td>2.3</td>\n",
       "    </tr>\n",
       "    <tr>\n",
       "      <th>1</th>\n",
       "      <td>1</td>\n",
       "      <td>16</td>\n",
       "      <td>1</td>\n",
       "      <td>28</td>\n",
       "      <td>1</td>\n",
       "      <td>Other</td>\n",
       "      <td>2.3</td>\n",
       "    </tr>\n",
       "    <tr>\n",
       "      <th>2</th>\n",
       "      <td>2</td>\n",
       "      <td>23</td>\n",
       "      <td>1</td>\n",
       "      <td>48</td>\n",
       "      <td>2</td>\n",
       "      <td>GN</td>\n",
       "      <td>1.9</td>\n",
       "    </tr>\n",
       "    <tr>\n",
       "      <th>3</th>\n",
       "      <td>2</td>\n",
       "      <td>13</td>\n",
       "      <td>0</td>\n",
       "      <td>48</td>\n",
       "      <td>2</td>\n",
       "      <td>GN</td>\n",
       "      <td>1.9</td>\n",
       "    </tr>\n",
       "    <tr>\n",
       "      <th>4</th>\n",
       "      <td>3</td>\n",
       "      <td>22</td>\n",
       "      <td>1</td>\n",
       "      <td>32</td>\n",
       "      <td>1</td>\n",
       "      <td>Other</td>\n",
       "      <td>1.2</td>\n",
       "    </tr>\n",
       "    <tr>\n",
       "      <th>...</th>\n",
       "      <td>...</td>\n",
       "      <td>...</td>\n",
       "      <td>...</td>\n",
       "      <td>...</td>\n",
       "      <td>...</td>\n",
       "      <td>...</td>\n",
       "      <td>...</td>\n",
       "    </tr>\n",
       "    <tr>\n",
       "      <th>71</th>\n",
       "      <td>36</td>\n",
       "      <td>16</td>\n",
       "      <td>0</td>\n",
       "      <td>42</td>\n",
       "      <td>2</td>\n",
       "      <td>Other</td>\n",
       "      <td>0.7</td>\n",
       "    </tr>\n",
       "    <tr>\n",
       "      <th>72</th>\n",
       "      <td>37</td>\n",
       "      <td>6</td>\n",
       "      <td>0</td>\n",
       "      <td>52</td>\n",
       "      <td>2</td>\n",
       "      <td>PKD</td>\n",
       "      <td>2.1</td>\n",
       "    </tr>\n",
       "    <tr>\n",
       "      <th>73</th>\n",
       "      <td>37</td>\n",
       "      <td>78</td>\n",
       "      <td>1</td>\n",
       "      <td>52</td>\n",
       "      <td>2</td>\n",
       "      <td>PKD</td>\n",
       "      <td>2.1</td>\n",
       "    </tr>\n",
       "    <tr>\n",
       "      <th>74</th>\n",
       "      <td>38</td>\n",
       "      <td>63</td>\n",
       "      <td>1</td>\n",
       "      <td>60</td>\n",
       "      <td>1</td>\n",
       "      <td>PKD</td>\n",
       "      <td>1.2</td>\n",
       "    </tr>\n",
       "    <tr>\n",
       "      <th>75</th>\n",
       "      <td>38</td>\n",
       "      <td>8</td>\n",
       "      <td>0</td>\n",
       "      <td>60</td>\n",
       "      <td>1</td>\n",
       "      <td>PKD</td>\n",
       "      <td>1.2</td>\n",
       "    </tr>\n",
       "  </tbody>\n",
       "</table>\n",
       "<p>76 rows × 7 columns</p>\n",
       "</div>"
      ],
      "text/plain": [
       "    id  time  status  age  sex disease  frail\n",
       "0    1     8       1   28    1   Other    2.3\n",
       "1    1    16       1   28    1   Other    2.3\n",
       "2    2    23       1   48    2      GN    1.9\n",
       "3    2    13       0   48    2      GN    1.9\n",
       "4    3    22       1   32    1   Other    1.2\n",
       "..  ..   ...     ...  ...  ...     ...    ...\n",
       "71  36    16       0   42    2   Other    0.7\n",
       "72  37     6       0   52    2     PKD    2.1\n",
       "73  37    78       1   52    2     PKD    2.1\n",
       "74  38    63       1   60    1     PKD    1.2\n",
       "75  38     8       0   60    1     PKD    1.2\n",
       "\n",
       "[76 rows x 7 columns]"
      ]
     },
     "execution_count": 18,
     "metadata": {},
     "output_type": "execute_result"
    }
   ],
   "source": [
    "df = pd.read_csv(\"../data/kidney.csv\")\n",
    "df.drop(df.columns[0], axis=1, inplace=True)\n",
    "df"
   ]
  },
  {
   "cell_type": "code",
   "execution_count": 19,
   "metadata": {},
   "outputs": [
    {
     "data": {
      "image/png": "[encoded data removed]",
      "text/plain": [
       "<Figure size 432x288 with 1 Axes>"
      ]
     },
     "metadata": {
      "needs_background": "light"
     },
     "output_type": "display_data"
    }
   ],
   "source": [
    "kmf = KaplanMeierFitter()\n",
    "ax = None\n",
    "for name, group in df.groupby(\"disease\"):\n",
    "    kmf.fit(group[\"time\"], event_observed=group[\"status\"],\n",
    "            label=\"肝臓病の種類：\" + str(name))\n",
    "    if ax is None:\n",
    "        ax = kmf.plot()\n",
    "    else:\n",
    "        ax = kmf.plot(ax=ax)\n",
    "plt.title(\"Kaplan-Meier Curve\")\n",
    "plt.show()"
   ]
  },
  {
   "cell_type": "markdown",
   "metadata": {},
   "source": [
    "# 問題32"
   ]
  },
  {
   "cell_type": "markdown",
   "metadata": {},
   "source": [
    "## (a)"
   ]
  },
  {
   "cell_type": "code",
   "execution_count": 20,
   "metadata": {},
   "outputs": [],
   "source": [
    "import numpy as np\n",
    "import pandas as pd\n",
    "import matplotlib.pyplot as plt\n",
    "import glmnet_python\n",
    "from glmnet import glmnet\n",
    "from glmnetCoef import glmnetCoef\n",
    "import sys\n",
    "from cvglmnet import cvglmnet\n",
    "from cvglmnetCoef import cvglmnetCoef\n",
    "from cvglmnetPlot import cvglmnetPlot\n",
    "import os\n",
    "import rpy2.robjects as robjects\n",
    "from rpy2.robjects import pandas2ri\n",
    "from rpy2.robjects.packages import importr\n",
    "from lifelines import KaplanMeierFitter"
   ]
  },
  {
   "cell_type": "code",
   "execution_count": 21,
   "metadata": {},
   "outputs": [
    {
     "name": "stdout",
     "output_type": "stream",
     "text": [
      "Warning: Cox model has no intercept!\n",
      "29\n"
     ]
    }
   ],
   "source": [
    "base = importr(\"base\")\n",
    "base.load(\"../data/LymphomaData.rda\")\n",
    "w = robjects.globalenv[\"patient.data\"]\n",
    "X = np.array(w[0]).T\n",
    "y = np.array(w[1])\n",
    "delta = np.array(w[2])\n",
    "v = np.concatenate([y.reshape(240, 1), delta.reshape(240, 1)], axis=1)\n",
    "fit = glmnet(x=X.copy(), y=v.copy(), family=\"cox\")\n",
    "beta = glmnetCoef(fit, s=np.float64([0.119787]))\n",
    "print(np.sum(beta != 0))"
   ]
  },
  {
   "cell_type": "markdown",
   "metadata": {},
   "source": [
    "29個の要素が非ゼロとなっている"
   ]
  },
  {
   "cell_type": "markdown",
   "metadata": {},
   "source": [
    "## (b)"
   ]
  },
  {
   "cell_type": "code",
   "execution_count": 22,
   "metadata": {},
   "outputs": [
    {
     "data": {
      "image/png": "[encoded data removed]",
      "text/plain": [
       "<Figure size 432x288 with 1 Axes>"
      ]
     },
     "metadata": {
      "needs_background": "light"
     },
     "output_type": "display_data"
    }
   ],
   "source": [
    "z = np.sign(np.dot(X, beta))\n",
    "df2 = pd.DataFrame(\n",
    "    np.concatenate(\n",
    "        [y.reshape(240, 1), delta.reshape(240, 1), z], axis=1))\n",
    "df2.columns = [\"time\", \"status\", \"sign\"]\n",
    "fig = plt.figure()\n",
    "kmf = KaplanMeierFitter()\n",
    "ax = None\n",
    "for name, group in df2.groupby(\"sign\"):\n",
    "    kmf.fit(group[\"time\"], event_observed=group[\"status\"],\n",
    "            label=\"z = \" + str(name))\n",
    "    if ax is None:\n",
    "        ax = kmf.plot()\n",
    "    else:\n",
    "        ax = kmf.plot(ax=ax)"
   ]
  },
  {
   "cell_type": "code",
   "execution_count": 23,
   "metadata": {},
   "outputs": [],
   "source": [
    "#plt.title(\"Kaplan-Meier Curve\")\n",
    "#fig.savefig(\"img7.png\")"
   ]
  },
  {
   "cell_type": "markdown",
   "metadata": {},
   "source": [
    "# 問題32"
   ]
  },
  {
   "cell_type": "code",
   "execution_count": 24,
   "metadata": {},
   "outputs": [],
   "source": [
    "import scipy, importlib, pprint, matplotlib.pyplot as plt, warnings\n",
    "from glmnet import glmnet; from glmnetPlot import glmnetPlot \n",
    "from glmnetPrint import glmnetPrint; from glmnetCoef import glmnetCoef; from glmnetPredict import glmnetPredict\n",
    "from cvglmnet import cvglmnet; from cvglmnetCoef import cvglmnetCoef\n",
    "from cvglmnetPlot import cvglmnetPlot; from cvglmnetPredict import cvglmnetPredict"
   ]
  },
  {
   "cell_type": "code",
   "execution_count": 25,
   "metadata": {},
   "outputs": [],
   "source": [
    "df = pd.read_csv(\"../data/leukemia_big.csv\", names=range(72)).T"
   ]
  },
  {
   "cell_type": "code",
   "execution_count": 26,
   "metadata": {},
   "outputs": [
    {
     "data": {
      "text/html": [
       "<div>\n",
       "<style scoped>\n",
       "    .dataframe tbody tr th:only-of-type {\n",
       "        vertical-align: middle;\n",
       "    }\n",
       "\n",
       "    .dataframe tbody tr th {\n",
       "        vertical-align: top;\n",
       "    }\n",
       "\n",
       "    .dataframe thead th {\n",
       "        text-align: right;\n",
       "    }\n",
       "</style>\n",
       "<table border=\"1\" class=\"dataframe\">\n",
       "  <thead>\n",
       "    <tr style=\"text-align: right;\">\n",
       "      <th></th>\n",
       "      <th>0</th>\n",
       "      <th>1</th>\n",
       "      <th>2</th>\n",
       "      <th>3</th>\n",
       "      <th>4</th>\n",
       "      <th>5</th>\n",
       "      <th>6</th>\n",
       "      <th>7</th>\n",
       "      <th>8</th>\n",
       "      <th>9</th>\n",
       "      <th>...</th>\n",
       "      <th>7119</th>\n",
       "      <th>7120</th>\n",
       "      <th>7121</th>\n",
       "      <th>7122</th>\n",
       "      <th>7123</th>\n",
       "      <th>7124</th>\n",
       "      <th>7125</th>\n",
       "      <th>7126</th>\n",
       "      <th>7127</th>\n",
       "      <th>7128</th>\n",
       "    </tr>\n",
       "  </thead>\n",
       "  <tbody>\n",
       "    <tr>\n",
       "      <th>0</th>\n",
       "      <td>ALL</td>\n",
       "      <td>-1.533621735</td>\n",
       "      <td>-1.235672925</td>\n",
       "      <td>-0.333982875</td>\n",
       "      <td>0.488702121</td>\n",
       "      <td>-1.300893264</td>\n",
       "      <td>-1.682668245</td>\n",
       "      <td>-2.010994928</td>\n",
       "      <td>-1.449185684</td>\n",
       "      <td>0.035344171</td>\n",
       "      <td>...</td>\n",
       "      <td>0.385566637</td>\n",
       "      <td>1.268787786</td>\n",
       "      <td>-0.217953576</td>\n",
       "      <td>0.25538086</td>\n",
       "      <td>-1.057940081</td>\n",
       "      <td>1.295991951</td>\n",
       "      <td>0.733853066</td>\n",
       "      <td>-0.301622172</td>\n",
       "      <td>0.133657104</td>\n",
       "      <td>-0.825595612</td>\n",
       "    </tr>\n",
       "    <tr>\n",
       "      <th>1</th>\n",
       "      <td>ALL</td>\n",
       "      <td>-0.867609617</td>\n",
       "      <td>-1.275500531</td>\n",
       "      <td>0.375926519</td>\n",
       "      <td>0.444010978</td>\n",
       "      <td>-1.229659818</td>\n",
       "      <td>-1.642071845</td>\n",
       "      <td>0.57291921</td>\n",
       "      <td>-1.588303607</td>\n",
       "      <td>0.21957414</td>\n",
       "      <td>...</td>\n",
       "      <td>-0.158356485</td>\n",
       "      <td>0.822879505</td>\n",
       "      <td>-1.369024157</td>\n",
       "      <td>0.542520961</td>\n",
       "      <td>-0.796526794</td>\n",
       "      <td>-0.2184937</td>\n",
       "      <td>0.378380453</td>\n",
       "      <td>-0.663166359</td>\n",
       "      <td>-0.663166359</td>\n",
       "      <td>-0.611044879</td>\n",
       "    </tr>\n",
       "    <tr>\n",
       "      <th>2</th>\n",
       "      <td>ALL</td>\n",
       "      <td>-0.433171907</td>\n",
       "      <td>-1.184492247</td>\n",
       "      <td>-0.459196002</td>\n",
       "      <td>0.436263539</td>\n",
       "      <td>-1.325882367</td>\n",
       "      <td>-1.407263942</td>\n",
       "      <td>-0.264655224</td>\n",
       "      <td>-1.147712888</td>\n",
       "      <td>-0.573540803</td>\n",
       "      <td>...</td>\n",
       "      <td>0.662728335</td>\n",
       "      <td>0.642714155</td>\n",
       "      <td>-0.466828186</td>\n",
       "      <td>0.856140037</td>\n",
       "      <td>-0.416815974</td>\n",
       "      <td>1.132893256</td>\n",
       "      <td>0.475668505</td>\n",
       "      <td>-0.530137975</td>\n",
       "      <td>1.566946374</td>\n",
       "      <td>-0.805978415</td>\n",
       "    </tr>\n",
       "    <tr>\n",
       "      <th>3</th>\n",
       "      <td>ALL</td>\n",
       "      <td>-1.671903187</td>\n",
       "      <td>-1.596423985</td>\n",
       "      <td>-1.422571436</td>\n",
       "      <td>0.193352945</td>\n",
       "      <td>-1.818328843</td>\n",
       "      <td>-1.744469301</td>\n",
       "      <td>-1.793196519</td>\n",
       "      <td>-1.446177699</td>\n",
       "      <td>-0.325814834</td>\n",
       "      <td>...</td>\n",
       "      <td>0.161917961</td>\n",
       "      <td>0.462715198</td>\n",
       "      <td>-0.585184983</td>\n",
       "      <td>-0.181007943</td>\n",
       "      <td>-0.611256782</td>\n",
       "      <td>1.113076885</td>\n",
       "      <td>0.148928156</td>\n",
       "      <td>-0.6259453</td>\n",
       "      <td>0.871972365</td>\n",
       "      <td>-1.037245914</td>\n",
       "    </tr>\n",
       "    <tr>\n",
       "      <th>4</th>\n",
       "      <td>ALL</td>\n",
       "      <td>-1.187689367</td>\n",
       "      <td>-1.335255683</td>\n",
       "      <td>-0.797492909</td>\n",
       "      <td>0.235631518</td>\n",
       "      <td>-1.311205961</td>\n",
       "      <td>-1.654380542</td>\n",
       "      <td>-1.441690105</td>\n",
       "      <td>-1.058555601</td>\n",
       "      <td>-0.582683167</td>\n",
       "      <td>...</td>\n",
       "      <td>0.176720583</td>\n",
       "      <td>0.750757803</td>\n",
       "      <td>-0.380080665</td>\n",
       "      <td>0.526297612</td>\n",
       "      <td>-0.888026343</td>\n",
       "      <td>0.719203228</td>\n",
       "      <td>0.419502118</td>\n",
       "      <td>-0.487513844</td>\n",
       "      <td>0.358998761</td>\n",
       "      <td>-0.742857958</td>\n",
       "    </tr>\n",
       "  </tbody>\n",
       "</table>\n",
       "<p>5 rows × 7129 columns</p>\n",
       "</div>"
      ],
      "text/plain": [
       "  0             1             2             3            4             5     \\\n",
       "0  ALL  -1.533621735  -1.235672925  -0.333982875  0.488702121  -1.300893264   \n",
       "1  ALL  -0.867609617  -1.275500531   0.375926519  0.444010978  -1.229659818   \n",
       "2  ALL  -0.433171907  -1.184492247  -0.459196002  0.436263539  -1.325882367   \n",
       "3  ALL  -1.671903187  -1.596423985  -1.422571436  0.193352945  -1.818328843   \n",
       "4  ALL  -1.187689367  -1.335255683  -0.797492909  0.235631518  -1.311205961   \n",
       "\n",
       "           6             7             8             9     ...          7119  \\\n",
       "0  -1.682668245  -2.010994928  -1.449185684   0.035344171  ...   0.385566637   \n",
       "1  -1.642071845    0.57291921  -1.588303607    0.21957414  ...  -0.158356485   \n",
       "2  -1.407263942  -0.264655224  -1.147712888  -0.573540803  ...   0.662728335   \n",
       "3  -1.744469301  -1.793196519  -1.446177699  -0.325814834  ...   0.161917961   \n",
       "4  -1.654380542  -1.441690105  -1.058555601  -0.582683167  ...   0.176720583   \n",
       "\n",
       "          7120          7121          7122          7123         7124  \\\n",
       "0  1.268787786  -0.217953576    0.25538086  -1.057940081  1.295991951   \n",
       "1  0.822879505  -1.369024157   0.542520961  -0.796526794   -0.2184937   \n",
       "2  0.642714155  -0.466828186   0.856140037  -0.416815974  1.132893256   \n",
       "3  0.462715198  -0.585184983  -0.181007943  -0.611256782  1.113076885   \n",
       "4  0.750757803  -0.380080665   0.526297612  -0.888026343  0.719203228   \n",
       "\n",
       "          7125          7126          7127          7128  \n",
       "0  0.733853066  -0.301622172   0.133657104  -0.825595612  \n",
       "1  0.378380453  -0.663166359  -0.663166359  -0.611044879  \n",
       "2  0.475668505  -0.530137975   1.566946374  -0.805978415  \n",
       "3  0.148928156    -0.6259453   0.871972365  -1.037245914  \n",
       "4  0.419502118  -0.487513844   0.358998761  -0.742857958  \n",
       "\n",
       "[5 rows x 7129 columns]"
      ]
     },
     "execution_count": 26,
     "metadata": {},
     "output_type": "execute_result"
    }
   ],
   "source": [
    "df.head()"
   ]
  },
  {
   "cell_type": "code",
   "execution_count": 27,
   "metadata": {},
   "outputs": [],
   "source": [
    "y = df.iloc[:,0].apply(lambda x: 0 if x == \"ALL\" else 1)\n",
    "X = df.iloc[:,1:]"
   ]
  },
  {
   "cell_type": "code",
   "execution_count": 28,
   "metadata": {},
   "outputs": [],
   "source": [
    "from sklearn.model_selection import train_test_split"
   ]
  },
  {
   "cell_type": "code",
   "execution_count": 29,
   "metadata": {},
   "outputs": [],
   "source": [
    "X_train, X_test, y_train, y_test =  train_test_split(X,y,train_size=0.8, random_state=42, stratify=y)"
   ]
  },
  {
   "cell_type": "code",
   "execution_count": 30,
   "metadata": {},
   "outputs": [],
   "source": [
    "X_train = X_train.values.astype('float')\n",
    "X_test = X_test.values.astype('float')\n",
    "y_train = y_train.values.astype('float')\n",
    "y_test = y_test.values.astype('float')"
   ]
  },
  {
   "cell_type": "code",
   "execution_count": 31,
   "metadata": {},
   "outputs": [],
   "source": [
    "# Linuxマシンのフォルダに\"breastcancer.csv\"をおく\n",
    "fit1 = cvglmnet(x=X_train.copy(), y=y_train.copy(), ptype=\"deviance\", family=\"binomial\")\n",
    "fit2 = cvglmnet(x=X_train.copy(), y=y_train.copy(), ptype=\"class\", family=\"binomial\")"
   ]
  },
  {
   "cell_type": "code",
   "execution_count": 32,
   "metadata": {},
   "outputs": [
    {
     "name": "stderr",
     "output_type": "stream",
     "text": [
      "/opt/conda/lib/python3.9/site-packages/glmnet_python-0.2.0-py3.9.egg/glmnet_python/cvglmnetPlot.py:113: MatplotlibDeprecationWarning: Case-insensitive properties were deprecated in 3.3 and support will be removed two minor releases later\n",
      "  ax2.set(XLim=xlim1, XTicks = atdf, XTickLabels = prettydf)\n",
      "/opt/conda/lib/python3.9/site-packages/glmnet_python-0.2.0-py3.9.egg/glmnet_python/cvglmnetPlot.py:113: MatplotlibDeprecationWarning: Case-insensitive properties were deprecated in 3.3 and support will be removed two minor releases later\n",
      "  ax2.set(XLim=xlim1, XTicks = atdf, XTickLabels = prettydf)\n"
     ]
    },
    {
     "data": {
      "image/png": "[encoded data removed]",
      "text/plain": [
       "<Figure size 432x288 with 2 Axes>"
      ]
     },
     "metadata": {
      "needs_background": "light"
     },
     "output_type": "display_data"
    },
    {
     "data": {
      "image/png": "[encoded data removed]",
      "text/plain": [
       "<Figure size 432x288 with 2 Axes>"
      ]
     },
     "metadata": {
      "needs_background": "light"
     },
     "output_type": "display_data"
    }
   ],
   "source": [
    "fig = plt.figure()\n",
    "cvglmnetPlot(fit1)\n",
    "fig2 = plt.figure()\n",
    "cvglmnetPlot(fit2)"
   ]
  },
  {
   "cell_type": "code",
   "execution_count": 33,
   "metadata": {},
   "outputs": [
    {
     "name": "stdout",
     "output_type": "stream",
     "text": [
      "[0.01077568]\n"
     ]
    }
   ],
   "source": [
    "lam_min = fit1['lambda_min']\n",
    "print(lam_min)"
   ]
  },
  {
   "cell_type": "markdown",
   "metadata": {},
   "source": [
    "上がlogloss, 下がaccuracy基準での$\\lambda$ごとの値  \n",
    "今回はlogloss基準でモデル選択を行う  \n",
    "CVの結果$lambda = 0.01077568$が最適である"
   ]
  },
  {
   "cell_type": "code",
   "execution_count": 34,
   "metadata": {},
   "outputs": [],
   "source": [
    "pred = cvglmnetPredict(fit1, X_test, s = lam_min, ptype='class')"
   ]
  },
  {
   "cell_type": "code",
   "execution_count": 35,
   "metadata": {},
   "outputs": [
    {
     "data": {
      "text/plain": [
       "1.0"
      ]
     },
     "execution_count": 35,
     "metadata": {},
     "output_type": "execute_result"
    }
   ],
   "source": [
    "from sklearn.metrics import accuracy_score\n",
    "accuracy_score(pred,y_test)    "
   ]
  },
  {
   "cell_type": "markdown",
   "metadata": {},
   "source": [
    "従って正答率100%で完璧に予測することができた..."
   ]
  }
 ],
 "metadata": {
  "kernelspec": {
   "display_name": "Python 3",
   "language": "python",
   "name": "python3"
  },
  "language_info": {
   "codemirror_mode": {
    "name": "ipython",
    "version": 3
   },
   "file_extension": ".py",
   "mimetype": "text/x-python",
   "name": "python",
   "nbconvert_exporter": "python",
   "pygments_lexer": "ipython3",
   "version": "3.8.5"
  }
 },
 "nbformat": 4,
 "nbformat_minor": 5
}
