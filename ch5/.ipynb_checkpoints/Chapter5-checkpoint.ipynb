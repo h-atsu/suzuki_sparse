{
 "cells": [
  {
   "cell_type": "code",
   "execution_count": 1,
   "metadata": {},
   "outputs": [],
   "source": [
    "import copy\n",
    "import japanize_matplotlib\n",
    "%matplotlib inline\n",
    "import matplotlib.pyplot as plt\n",
    "import numpy as np\n",
    "import scipy\n",
    "from matplotlib.pyplot import imshow\n",
    "from numpy.random import randn\n",
    "from scipy import stats\n"
   ]
  },
  {
   "cell_type": "markdown",
   "metadata": {},
   "source": [
    "# 問題70"
   ]
  },
  {
   "cell_type": "code",
   "execution_count": 5,
   "metadata": {},
   "outputs": [],
   "source": [
    "import copy as c"
   ]
  },
  {
   "cell_type": "code",
   "execution_count": 6,
   "metadata": {},
   "outputs": [],
   "source": [
    "def inner_prod(x, y):\n",
    "    return np.dot(x, y)"
   ]
  },
  {
   "cell_type": "code",
   "execution_count": 7,
   "metadata": {},
   "outputs": [],
   "source": [
    "def soft_th(lambd, x):\n",
    "    return np.sign(x) * np.maximum(np.abs(x) - lambd, 0)"
   ]
  },
  {
   "cell_type": "code",
   "execution_count": 42,
   "metadata": {},
   "outputs": [],
   "source": [
    "def graph_lasso(s, lambd=0):\n",
    "    s = np.array(s)\n",
    "    W = s\n",
    "    p = s.shape[1]\n",
    "    beta = np.zeros((p-1, p))\n",
    "    w = s.shape[0]\n",
    "    beta_out = beta\n",
    "    eps_out = 1\n",
    "    while eps_out > 0.01:\n",
    "        for j in range(p):\n",
    "            a = np.delete(np.delete(W, j, 0), j, 1)\n",
    "            b = np.delete(s, j, 0)[:, j]\n",
    "            beta_in = beta[:, j]\n",
    "            eps_in = 1\n",
    "            while eps_in > 0.01:\n",
    "                for h in range(p - 1):\n",
    "                    cc = b[h] - inner_prod(np.delete(a, h, 1)[h, :],\n",
    "                                           np.delete(beta, h, 0)[:, j])\n",
    "                    beta[h, j] = soft_th(lambd, cc) / a[h, h]\n",
    "                eps_in = np.max(beta[:, j] - beta_in)\n",
    "                beta_in = beta[:, j]\n",
    "            m = list(np.arange(j))\n",
    "            n = list(np.arange(j+1, w))\n",
    "            z = m + n\n",
    "            W[z, j] = np.dot(a, beta[:, j])\n",
    "        eps_out = np.max(beta - beta_out)\n",
    "        beta_out = beta\n",
    "    theta = np.zeros((p, p))\n",
    "    for j in range(p - 1):\n",
    "        m1 = list(np.arange(j))\n",
    "        n1 = list(np.arange(j+1, p))\n",
    "        z1 = m1 + n1\n",
    "        theta[j, j] = 1 / (W[j, j] - np.dot(np.delete(W, j, 1)[j, :],\n",
    "                                            beta[:, j]))\n",
    "        theta[z1, j] = -beta[:, j] * theta[j, j]\n",
    "    return theta"
   ]
  },
  {
   "cell_type": "code",
   "execution_count": 43,
   "metadata": {},
   "outputs": [],
   "source": [
    "Theta = np.array([2,  0.6,    0,    0,  0.5,  0.6,    2, -0.4,  0.3,    0,\n",
    "                  0, -0.4,    2, -0.2,    0,    0,  0.3, -0.2,    2, -0.2,\n",
    "                  0.5,    0,    0, -0.2,    2]).reshape(-1, 5)\n",
    "Sigma = np.linalg.inv(Theta)\n",
    "meanvec = np.repeat(0, 5)\n",
    "dat = np.random.multivariate_normal(meanvec, Sigma, 20)\n",
    "# 平均meanvec，共分散行列Sigma，サンプル数no.row，変数の個数dからサンプル行列を生成\n",
    "s = np.dot(dat.T, dat) / dat.shape[0]"
   ]
  },
  {
   "cell_type": "code",
   "execution_count": 46,
   "metadata": {},
   "outputs": [
    {
     "name": "stdout",
     "output_type": "stream",
     "text": [
      "[[ 2.   0.6  0.   0.   0.5]\n",
      " [ 0.6  2.  -0.4  0.3  0. ]\n",
      " [ 0.  -0.4  2.  -0.2  0. ]\n",
      " [ 0.   0.3 -0.2  2.  -0.2]\n",
      " [ 0.5  0.   0.  -0.2  2. ]]\n",
      "[[ 2.98677226  0.44654113  0.23751458  0.26827521  0.        ]\n",
      " [ 0.83217174  1.1339586   0.15371658  0.19899318  0.        ]\n",
      " [ 0.53556666  0.16659266  2.32420173 -0.43793412  0.        ]\n",
      " [ 0.50794841  0.13440806 -0.46664389  2.68658094  0.        ]\n",
      " [ 2.85776587  0.433564    0.25537454  0.5088286   0.        ]]\n",
      "[[ 2.85922591  0.4241516   0.20032661  0.22509769  0.        ]\n",
      " [ 0.76786215  1.11746238  0.11748607  0.15651237  0.        ]\n",
      " [ 0.44825989  0.12688247  2.27723937 -0.39057528  0.        ]\n",
      " [ 0.42518479  0.10183595 -0.41231142  2.62858201  0.        ]\n",
      " [ 2.6539865   0.368446    0.15808884  0.3971828   0.        ]]\n"
     ]
    }
   ],
   "source": [
    "print(Theta)\n",
    "print(graph_lasso(s))\n",
    "print(graph_lasso(s, lambd=0.01))"
   ]
  },
  {
   "cell_type": "markdown",
   "metadata": {},
   "source": [
    "# 問題71"
   ]
  },
  {
   "cell_type": "code",
   "execution_count": 57,
   "metadata": {},
   "outputs": [],
   "source": [
    "import pandas as pd\n",
    "from sklearn.covariance import graphical_lasso"
   ]
  },
  {
   "cell_type": "code",
   "execution_count": 74,
   "metadata": {},
   "outputs": [],
   "source": [
    "def adj(mat):\n",
    "    p = mat.shape[1]\n",
    "    ad = np.zeros((p, p))\n",
    "    for i in range(p - 1):\n",
    "        for j in range((i + 1), p):\n",
    "            if mat[i, j] == 0:\n",
    "                ad[i, j] = 0\n",
    "            else:\n",
    "                ad[i, j] = 1\n",
    "    g = jgraph.Graph.Adjacency(ad.tolist(), mode=igraph.ADJ_MAX)\n",
    "    g.vs[\"label\"] = list(range(g.vcount()))\n",
    "    return igraph.plot(g, bbox=(300, 300))"
   ]
  },
  {
   "cell_type": "code",
   "execution_count": 75,
   "metadata": {},
   "outputs": [],
   "source": [
    "df = pd.read_csv(\"../data/breastcancer.csv\")\n",
    "df.drop(df.columns[len(df.columns) - 1], axis=1, inplace=True)\n",
    "df = df.values"
   ]
  },
  {
   "cell_type": "code",
   "execution_count": 76,
   "metadata": {},
   "outputs": [
    {
     "name": "stdout",
     "output_type": "stream",
     "text": [
      "993766\n"
     ]
    }
   ],
   "source": [
    "w = np.zeros((250, 1000))\n",
    "for i in range(1000):\n",
    "    w[:, i] = df[:, i]\n",
    "x = w\n",
    "s = np.dot(x.T, x) / 250\n",
    "fit = graphical_lasso(s, 0.75)\n",
    "print(np.sum(list(map(lambda x: x == 0, fit[1]))))\n",
    "y = pd.DataFrame(columns=[\"y\"])\n",
    "z = pd.DataFrame(columns=[\"z\"])\n",
    "for i in range(999):\n",
    "    for j in range((i + 1), 1000):\n",
    "        if fit[1][i, j] != 0:\n",
    "            y = y.append(pd.DataFrame({\"y\": [i]}))\n",
    "            z = z.append(pd.DataFrame({\"z\": [j]}))\n",
    "y.index = np.arange(1, len(y) + 1)\n",
    "z.index = np.arange(1, len(z) + 1)\n",
    "edges = pd.concat([y, z], axis=1)\n",
    "edges.to_csv(\"edges.csv\")"
   ]
  },
  {
   "cell_type": "markdown",
   "metadata": {},
   "source": [
    "# 問題72"
   ]
  },
  {
   "cell_type": "code",
   "execution_count": 81,
   "metadata": {},
   "outputs": [
    {
     "name": "stdout",
     "output_type": "stream",
     "text": [
      "Collecting python-igraph==0.9.6\n",
      "  Downloading python_igraph-0.9.6-cp38-cp38-macosx_10_9_x86_64.whl (2.0 MB)\n",
      "\u001b[K     |████████████████████████████████| 2.0 MB 7.1 MB/s eta 0:00:01\n",
      "\u001b[?25hCollecting texttable>=1.6.2\n",
      "  Downloading texttable-1.6.4-py2.py3-none-any.whl (10 kB)\n",
      "Installing collected packages: texttable, python-igraph\n",
      "Successfully installed python-igraph-0.9.6 texttable-1.6.4\n",
      "Note: you may need to restart the kernel to use updated packages.\n"
     ]
    }
   ],
   "source": [
    "pip install python-igraph==0.9.6"
   ]
  },
  {
   "cell_type": "code",
   "execution_count": 77,
   "metadata": {},
   "outputs": [],
   "source": [
    "from IPython.core.display import display, SVG\n",
    "import igraph\n",
    "import pandas as pd\n",
    "from sklearn.linear_model import ElasticNet"
   ]
  },
  {
   "cell_type": "code",
   "execution_count": 78,
   "metadata": {},
   "outputs": [],
   "source": [
    "df = pd.read_csv(\"../data/breastcancer.csv\")\n",
    "df.drop(df.columns[len(df.columns) - 1], axis=1, inplace=True)\n",
    "df = df.values"
   ]
  },
  {
   "cell_type": "code",
   "execution_count": 79,
   "metadata": {},
   "outputs": [],
   "source": [
    "n = 250\n",
    "p = 50\n",
    "w = np.zeros((n, p))\n",
    "for i in range(p):\n",
    "    w[:, i] = df[:, i]\n",
    "x = w[:, range(p)]\n",
    "lambd = 0.1\n",
    "model = list()\n",
    "for j in range(p):\n",
    "    m2 = list(np.arange(j))\n",
    "    n2 = list(np.arange(j + 1, p))\n",
    "    z2 = m2 + n2\n",
    "    model.append(\n",
    "        ElasticNet(alpha=lambd, l1_ratio=1).fit(X=x[:, z2], y=x[:, j]))\n",
    "ad = np.zeros((p, p))\n",
    "for i in range(p):\n",
    "    for j in range(p - 1):\n",
    "        k = j\n",
    "        if j >= i:\n",
    "            k = j + 1\n",
    "        if model[i].coef_[j] != 0:\n",
    "            ad[i, k] = 1\n",
    "        else:\n",
    "            ad[i, k] = 0"
   ]
  },
  {
   "cell_type": "code",
   "execution_count": 80,
   "metadata": {},
   "outputs": [
    {
     "name": "stdout",
     "output_type": "stream",
     "text": [
      "[0, 0, 0, 0, 0, 0, 0, 0, 0, 0, 0, 0, 1, 1, 1, 1, 1, 1, 1, 1, 1, 1, 1, 1, 2, 2, 2, 2, 2, 2, 2, 2, 2, 2, 3, 3, 3, 3, 3, 3, 3, 4, 4, 4, 4, 4, 4, 5, 5, 5, 5, 5, 5, 5, 5, 5, 5, 5, 6, 6, 6, 6, 6, 6, 6, 6, 7, 7, 7, 7, 7, 7, 8, 8, 8, 8, 8, 8, 8, 8, 8, 9, 9, 9, 9, 9, 9, 9, 10, 10, 10, 10, 10, 10, 11, 11, 11, 11, 11, 11, 11, 11, 12, 12, 12, 12, 12, 12, 12, 12, 12, 13, 13, 14, 14, 14, 15, 15, 15, 15, 15, 15, 15, 15, 15, 15, 15, 16, 16, 16, 16, 16, 17, 17, 17, 17, 17, 17, 17, 17, 18, 18, 18, 18, 19, 19, 19, 20, 20, 20, 20, 20, 21, 21, 21, 21, 21, 21, 22, 22, 22, 22, 22, 22, 22, 23, 23, 23, 23, 23, 23, 24, 24, 24, 24, 25, 25, 25, 25, 25, 26, 26, 26, 26, 26, 27, 27, 27, 27, 28, 28, 28, 28, 28, 29, 29, 29, 29, 29, 29, 30, 30, 30, 30, 30, 30, 30, 31, 31, 32, 32, 33, 33, 33, 34, 34, 35, 35, 35, 36, 36, 36, 37, 37, 37, 37, 37, 39, 39, 41, 41, 42, 42, 42, 43, 43, 44, 44, 46, 46, 46, 48]\n",
      "[1, 11, 12, 17, 21, 22, 23, 27, 40, 45, 47, 49, 3, 4, 9, 15, 17, 20, 22, 25, 26, 33, 36, 42, 8, 9, 14, 18, 19, 20, 23, 28, 37, 49, 4, 7, 16, 17, 20, 22, 45, 8, 19, 20, 27, 29, 31, 9, 10, 14, 20, 23, 24, 30, 32, 38, 40, 44, 7, 11, 13, 17, 29, 35, 43, 46, 11, 12, 14, 16, 40, 48, 9, 13, 17, 18, 20, 28, 44, 45, 49, 17, 24, 27, 31, 33, 36, 41, 11, 15, 19, 27, 41, 47, 16, 17, 28, 32, 34, 40, 42, 46, 19, 21, 24, 27, 38, 39, 42, 44, 49, 14, 15, 16, 24, 44, 17, 22, 25, 26, 29, 30, 31, 40, 45, 46, 48, 19, 24, 28, 30, 35, 20, 23, 26, 34, 40, 42, 47, 48, 19, 24, 41, 43, 26, 43, 47, 22, 23, 33, 36, 41, 22, 28, 29, 34, 35, 49, 24, 27, 31, 34, 36, 46, 49, 27, 32, 34, 39, 40, 41, 28, 38, 44, 47, 38, 39, 41, 45, 49, 36, 39, 41, 42, 48, 28, 30, 46, 49, 29, 38, 44, 47, 49, 30, 31, 44, 46, 47, 49, 33, 35, 38, 43, 46, 48, 49, 32, 44, 36, 48, 34, 35, 44, 40, 41, 37, 38, 44, 37, 41, 45, 38, 44, 45, 48, 49, 40, 41, 48, 49, 46, 48, 49, 47, 49, 45, 49, 47, 48, 49, 49]\n",
      "[[0. 1. 0. ... 1. 0. 1.]\n",
      " [1. 0. 0. ... 0. 0. 0.]\n",
      " [0. 0. 0. ... 0. 0. 1.]\n",
      " ...\n",
      " [0. 0. 0. ... 0. 0. 0.]\n",
      " [0. 0. 0. ... 0. 0. 1.]\n",
      " [0. 0. 0. ... 0. 1. 0.]]\n"
     ]
    },
    {
     "ename": "AttributeError",
     "evalue": "module 'jgraph' has no attribute 'Graph'",
     "output_type": "error",
     "traceback": [
      "\u001b[0;31m---------------------------------------------------------------------------\u001b[0m",
      "\u001b[0;31mAttributeError\u001b[0m                            Traceback (most recent call last)",
      "\u001b[0;32m<ipython-input-80-f74d9c345c68>\u001b[0m in \u001b[0;36m<module>\u001b[0;34m\u001b[0m\n\u001b[1;32m     15\u001b[0m \u001b[0mprint\u001b[0m\u001b[0;34m(\u001b[0m\u001b[0mv\u001b[0m\u001b[0;34m)\u001b[0m\u001b[0;34m\u001b[0m\u001b[0;34m\u001b[0m\u001b[0m\n\u001b[1;32m     16\u001b[0m \u001b[0mprint\u001b[0m\u001b[0;34m(\u001b[0m\u001b[0mad\u001b[0m\u001b[0;34m)\u001b[0m\u001b[0;34m\u001b[0m\u001b[0;34m\u001b[0m\u001b[0m\n\u001b[0;32m---> 17\u001b[0;31m \u001b[0madj\u001b[0m\u001b[0;34m(\u001b[0m\u001b[0mad\u001b[0m\u001b[0;34m)\u001b[0m\u001b[0;34m\u001b[0m\u001b[0;34m\u001b[0m\u001b[0m\n\u001b[0m",
      "\u001b[0;32m<ipython-input-74-09158439da5c>\u001b[0m in \u001b[0;36madj\u001b[0;34m(mat)\u001b[0m\n\u001b[1;32m      8\u001b[0m             \u001b[0;32melse\u001b[0m\u001b[0;34m:\u001b[0m\u001b[0;34m\u001b[0m\u001b[0;34m\u001b[0m\u001b[0m\n\u001b[1;32m      9\u001b[0m                 \u001b[0mad\u001b[0m\u001b[0;34m[\u001b[0m\u001b[0mi\u001b[0m\u001b[0;34m,\u001b[0m \u001b[0mj\u001b[0m\u001b[0;34m]\u001b[0m \u001b[0;34m=\u001b[0m \u001b[0;36m1\u001b[0m\u001b[0;34m\u001b[0m\u001b[0;34m\u001b[0m\u001b[0m\n\u001b[0;32m---> 10\u001b[0;31m     \u001b[0mg\u001b[0m \u001b[0;34m=\u001b[0m \u001b[0mjgraph\u001b[0m\u001b[0;34m.\u001b[0m\u001b[0mGraph\u001b[0m\u001b[0;34m.\u001b[0m\u001b[0mAdjacency\u001b[0m\u001b[0;34m(\u001b[0m\u001b[0mad\u001b[0m\u001b[0;34m.\u001b[0m\u001b[0mtolist\u001b[0m\u001b[0;34m(\u001b[0m\u001b[0;34m)\u001b[0m\u001b[0;34m,\u001b[0m \u001b[0mmode\u001b[0m\u001b[0;34m=\u001b[0m\u001b[0migraph\u001b[0m\u001b[0;34m.\u001b[0m\u001b[0mADJ_MAX\u001b[0m\u001b[0;34m)\u001b[0m\u001b[0;34m\u001b[0m\u001b[0;34m\u001b[0m\u001b[0m\n\u001b[0m\u001b[1;32m     11\u001b[0m     \u001b[0mg\u001b[0m\u001b[0;34m.\u001b[0m\u001b[0mvs\u001b[0m\u001b[0;34m[\u001b[0m\u001b[0;34m\"label\"\u001b[0m\u001b[0;34m]\u001b[0m \u001b[0;34m=\u001b[0m \u001b[0mlist\u001b[0m\u001b[0;34m(\u001b[0m\u001b[0mrange\u001b[0m\u001b[0;34m(\u001b[0m\u001b[0mg\u001b[0m\u001b[0;34m.\u001b[0m\u001b[0mvcount\u001b[0m\u001b[0;34m(\u001b[0m\u001b[0;34m)\u001b[0m\u001b[0;34m)\u001b[0m\u001b[0;34m)\u001b[0m\u001b[0;34m\u001b[0m\u001b[0;34m\u001b[0m\u001b[0m\n\u001b[1;32m     12\u001b[0m     \u001b[0;32mreturn\u001b[0m \u001b[0migraph\u001b[0m\u001b[0;34m.\u001b[0m\u001b[0mplot\u001b[0m\u001b[0;34m(\u001b[0m\u001b[0mg\u001b[0m\u001b[0;34m,\u001b[0m \u001b[0mbbox\u001b[0m\u001b[0;34m=\u001b[0m\u001b[0;34m(\u001b[0m\u001b[0;36m300\u001b[0m\u001b[0;34m,\u001b[0m \u001b[0;36m300\u001b[0m\u001b[0;34m)\u001b[0m\u001b[0;34m)\u001b[0m\u001b[0;34m\u001b[0m\u001b[0;34m\u001b[0m\u001b[0m\n",
      "\u001b[0;31mAttributeError\u001b[0m: module 'jgraph' has no attribute 'Graph'"
     ]
    }
   ],
   "source": [
    "# ANDの場合\n",
    "for i in range(p - 1):\n",
    "    for j in range(i + 1, p):\n",
    "        if ad[i, j] != ad[i, j]:\n",
    "            ad[i, j] = 0\n",
    "            ad[j, i] = 0\n",
    "u = list()\n",
    "v = list()\n",
    "for i in range(p - 1):\n",
    "    for j in range(i + 1, p):\n",
    "        if ad[i, j] == 1:\n",
    "            u.append(i)\n",
    "            v.append(j)\n",
    "print(u)\n",
    "print(v)\n",
    "print(ad)\n",
    "adj(ad)"
   ]
  },
  {
   "cell_type": "code",
   "execution_count": null,
   "metadata": {},
   "outputs": [],
   "source": []
  }
 ],
 "metadata": {
  "kernelspec": {
   "display_name": "Python 3",
   "language": "python",
   "name": "python3"
  },
  "language_info": {
   "codemirror_mode": {
    "name": "ipython",
    "version": 3
   },
   "file_extension": ".py",
   "mimetype": "text/x-python",
   "name": "python",
   "nbconvert_exporter": "python",
   "pygments_lexer": "ipython3",
   "version": "3.8.5"
  }
 },
 "nbformat": 4,
 "nbformat_minor": 4
}
